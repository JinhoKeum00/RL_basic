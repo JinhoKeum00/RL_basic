{
  "nbformat": 4,
  "nbformat_minor": 0,
  "metadata": {
    "colab": {
      "provenance": [],
      "toc_visible": true
    },
    "kernelspec": {
      "name": "python3",
      "display_name": "Python 3"
    },
    "language_info": {
      "name": "python"
    }
  },
  "cells": [
    {
      "cell_type": "code",
      "source": [
        "import random"
      ],
      "metadata": {
        "id": "h3py6t3NtRb8"
      },
      "execution_count": null,
      "outputs": []
    },
    {
      "cell_type": "code",
      "source": [
        "class GridWorld():\n",
        "  def __init__(self):\n",
        "    self.x=0\n",
        "    self.y=0\n",
        "\n",
        "  def step(self,a):\n",
        "      if a==0:\n",
        "        self.move_right()\n",
        "      elif a==1:\n",
        "        self.move_left()\n",
        "      elif a==2:\n",
        "        self.move_up()\n",
        "      elif a==3:\n",
        "        self.move_down()\n",
        "\n",
        "      reward = -1\n",
        "      done = self.is_done()\n",
        "      return (self.x, self.y), reward, done\n",
        "\n",
        "  def move_right(self):\n",
        "      self.y += 1\n",
        "      if self.y > 3:\n",
        "          self.y = 3\n",
        "\n",
        "  def move_left(self):\n",
        "      self.y -= 1\n",
        "      if self.y < 0:\n",
        "          self.y = 0\n",
        "\n",
        "  def move_up(self):\n",
        "      self.x -= 1\n",
        "      if self.x < 0:\n",
        "        self.x = 0\n",
        "\n",
        "  def move_down(self):\n",
        "      self.x += 1\n",
        "      if self.x > 3:\n",
        "        self.x = 3\n",
        "\n",
        "  def is_done(self):\n",
        "      if self.x == 3 and self.y == 3:\n",
        "        return True\n",
        "      else:\n",
        "        return False\n",
        "\n",
        "  def get_state(self):\n",
        "      return (self.x, self.y)\n",
        "\n",
        "  def reset(self):\n",
        "      self.x = 0\n",
        "      self.y = 0\n",
        "      return (self.x, self.y)"
      ],
      "metadata": {
        "id": "_xdMb_1xwgGe"
      },
      "execution_count": null,
      "outputs": []
    },
    {
      "cell_type": "code",
      "source": [
        "class Agent():\n",
        "  def __init__(self):\n",
        "    pass\n",
        "\n",
        "  def select_action(self):\n",
        "      coin = random.random()\n",
        "      if coin < 0.25:\n",
        "          action = 0\n",
        "      elif coin < 0.5:\n",
        "          action = 1\n",
        "      elif coin < 0.75:\n",
        "          action = 2\n",
        "      else:\n",
        "        action = 3\n",
        "      return action"
      ],
      "metadata": {
        "id": "ATOx7O63Bjc6"
      },
      "execution_count": null,
      "outputs": []
    },
    {
      "cell_type": "code",
      "source": [
        "def main():\n",
        "    env = GridWorld()\n",
        "    agent = Agent()\n",
        "    data = [[0,0,0,0],[0,0,0,0],[0,0,0,0],[0,0,0,0]]\n",
        "    gamma = 1.0\n",
        "    alpha = 0.01\n",
        "\n",
        "    for k in range(50000):\n",
        "        done = False\n",
        "        while not done:\n",
        "            x, y = env.get_state()\n",
        "            action = agent.select_action()\n",
        "            (x_prime, y_prime), reward, done = env.step(action)\n",
        "            x_prime, y_prime = env.get_state()\n",
        "\n",
        "            data[x][y] = data[x][y] + alpha*(reward+gamma*data[x_prime][y_prime] - data[x][y])\n",
        "        env.reset()\n",
        "\n",
        "    for row in data:\n",
        "        print(row)"
      ],
      "metadata": {
        "id": "Mm3ErWgEaHbX"
      },
      "execution_count": null,
      "outputs": []
    },
    {
      "cell_type": "code",
      "source": [
        "def main():\n",
        "    env = GridWorld()\n",
        "    agent = Agent()\n",
        "    data = [[0,0,0,0],[0,0,0,0],[0,0,0,0],[0,0,0,0]]\n",
        "    gamma = 1.0\n",
        "    alpha = 0.0001\n",
        "\n",
        "    for k in range(50000):\n",
        "        done = False\n",
        "        history = []\n",
        "        while not done:\n",
        "            action = agent.select_action()\n",
        "            (x,y), reward, done = env.step(action)\n",
        "            history.append((x,y,reward))\n",
        "        env.reset()\n",
        "\n",
        "        cum_reward = 0\n",
        "        for transition in history[::-1]:\n",
        "            x,y,reward = transition\n",
        "            data[x][y] = data[x][y] + alpha*(cum_reward - data[x][y])\n",
        "            cum_reward = reward + gamma*cum_reward\n",
        "\n",
        "    for row in data:\n",
        "        print(row)"
      ],
      "metadata": {
        "id": "PPLssGUQTDfn"
      },
      "execution_count": null,
      "outputs": []
    },
    {
      "cell_type": "code",
      "source": [
        "if __name__ == \"__main__\":\n",
        "  main()"
      ],
      "metadata": {
        "colab": {
          "base_uri": "https://localhost:8080/"
        },
        "id": "UVtnNdwXgavu",
        "outputId": "cab14e0b-1576-4865-d3f5-d94b83f89dbd"
      },
      "execution_count": null,
      "outputs": [
        {
          "output_type": "stream",
          "name": "stdout",
          "text": [
            "[-59.77520026391758, -57.855301662063184, -54.50613532808197, -52.00433100287599]\n",
            "[-57.766839631077154, -54.94498522943297, -50.41899902800774, -46.02845882980131]\n",
            "[-54.60185948520891, -50.261699416408185, -42.40590231853003, -32.31796811163491]\n",
            "[-52.143312834715644, -45.93442107007777, -31.325820507576676, 0]\n"
          ]
        }
      ]
    }
  ]
}