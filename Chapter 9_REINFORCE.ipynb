{
  "nbformat": 4,
  "nbformat_minor": 0,
  "metadata": {
    "colab": {
      "provenance": [],
      "gpuType": "T4"
    },
    "kernelspec": {
      "name": "python3",
      "display_name": "Python 3"
    },
    "language_info": {
      "name": "python"
    },
    "accelerator": "GPU"
  },
  "cells": [
    {
      "cell_type": "code",
      "source": [
        "import gym\n",
        "import torch\n",
        "import torch.nn as nn\n",
        "import torch.nn.functional as F\n",
        "import torch.optim as optim\n",
        "from torch.distributions import Categorical"
      ],
      "metadata": {
        "colab": {
          "base_uri": "https://localhost:8080/"
        },
        "id": "LxuB-ZTU7eyw",
        "outputId": "83c7aa6e-cf6b-4b30-d527-94de863d9e8f"
      },
      "execution_count": 2,
      "outputs": [
        {
          "output_type": "stream",
          "name": "stderr",
          "text": [
            "Gym has been unmaintained since 2022 and does not support NumPy 2.0 amongst other critical functionality.\n",
            "Please upgrade to Gymnasium, the maintained drop-in replacement of Gym, or contact the authors of your software and request that they upgrade.\n",
            "See the migration guide at https://gymnasium.farama.org/introduction/migration_guide/ for additional information.\n"
          ]
        }
      ]
    },
    {
      "cell_type": "code",
      "source": [
        "learning_rate = 0.0002\n",
        "gamma = 0.98"
      ],
      "metadata": {
        "id": "8SvdtUg17qg8"
      },
      "execution_count": 3,
      "outputs": []
    },
    {
      "cell_type": "code",
      "source": [
        "class Policy(nn.Module):\n",
        "  def __init__(self):\n",
        "    super(Policy, self).__init__()\n",
        "    self.data = []\n",
        "\n",
        "    self.fc1 = nn.Linear(4, 128)\n",
        "    self.fc2 = nn.Linear(128, 2)\n",
        "    self.optimizer = optim.Adam(self.parameters(), lr = learning_rate)\n",
        "\n",
        "  def forward(self, x):\n",
        "    x = F.relu(self.fc1(x))\n",
        "    x = F.softmax(self.fc2(x), dim=0)\n",
        "    return x\n",
        "\n",
        "  def put_data(self, item):\n",
        "    self.data.append(item)\n",
        "\n",
        "  def train_net(self):\n",
        "    R = 0\n",
        "    self.optimizer.zero_grad()\n",
        "    for r, prob in self.data[::-1]:\n",
        "      R = r + gamma * R\n",
        "      loss = -torch.log(prob) * R\n",
        "      loss.backward()\n",
        "    self.optimizer.step()\n",
        "    self.data = []"
      ],
      "metadata": {
        "id": "dYy9vtHm8JtT"
      },
      "execution_count": 4,
      "outputs": []
    },
    {
      "cell_type": "code",
      "source": [
        "def main():\n",
        "  env = gym.make('CartPole-v1')\n",
        "  pi = Policy()\n",
        "  score = 0.0\n",
        "  print_interval = 20\n",
        "\n",
        "  for n_epi in range(10000):\n",
        "    s, _ = env.reset()\n",
        "    done = False\n",
        "\n",
        "    while not done:\n",
        "      prob = pi(torch.from_numpy(s).float())\n",
        "      m = Categorical(prob)\n",
        "      a = m.sample()\n",
        "      s_prime, r, done, truncated, info = env.step(a.item())\n",
        "      pi.put_data((r, prob[a]))\n",
        "      s = s_prime\n",
        "      score += r\n",
        "\n",
        "    pi.train_net()\n",
        "\n",
        "    if n_epi%print_interval==0 and n_epi!=0:\n",
        "      print(\"# of episode :{}, avg score : {}\".format(n_epi, score/print_interval))\n",
        "      score = 0.0\n",
        "  env.close()"
      ],
      "metadata": {
        "id": "SNqlhBXM7vFa"
      },
      "execution_count": 5,
      "outputs": []
    }
  ]
}