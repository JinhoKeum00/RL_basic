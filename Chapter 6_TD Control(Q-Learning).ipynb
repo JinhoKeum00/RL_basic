{
  "cells": [
    {
      "cell_type": "code",
      "execution_count": 1,
      "metadata": {
        "id": "h3py6t3NtRb8"
      },
      "outputs": [],
      "source": [
        "import random\n",
        "import numpy as np"
      ]
    },
    {
      "cell_type": "code",
      "execution_count": 2,
      "metadata": {
        "id": "kKMYf__rSLAe"
      },
      "outputs": [],
      "source": [
        "class GridWorld():\n",
        "  def __init__(self):\n",
        "    self.x = 0\n",
        "    self.y = 0\n",
        "\n",
        "  def step(self,a):\n",
        "    if a == 0:\n",
        "      self.move_left()\n",
        "    elif a == 1:\n",
        "      self.move_up()\n",
        "    elif a == 2:\n",
        "      self.move_right()\n",
        "    elif a == 3:\n",
        "      self.move_down()\n",
        "\n",
        "    reward = -1\n",
        "    done = self.is_done()\n",
        "    return (self.x, self.y), reward, done\n",
        "\n",
        "  def move_left(self):\n",
        "    if self.y == 0:\n",
        "      pass\n",
        "    elif self.y == 3 and self.x in [0,1,2]:\n",
        "      pass\n",
        "    elif self.y == 5 and self.x in [2,3,4]:\n",
        "      pass\n",
        "    else:\n",
        "      self.y -= 1\n",
        "\n",
        "  def move_right(self):\n",
        "    if self.y == 1 and self.x in [0,1,2]:\n",
        "      pass\n",
        "    elif self.y == 3 and self.x in [2,3,4]:\n",
        "      pass\n",
        "    elif self.y == 6:\n",
        "      pass\n",
        "    else:\n",
        "      self.y += 1\n",
        "\n",
        "  def move_up(self):\n",
        "    if self.x == 0:\n",
        "      pass\n",
        "    elif self.x == 3 and self.y == 2:\n",
        "      pass\n",
        "    else:\n",
        "      self.x -= 1\n",
        "\n",
        "  def move_down(self):\n",
        "    if self.x == 4:\n",
        "      pass\n",
        "    elif self.x == 1 and self.y == 4:\n",
        "      pass\n",
        "    else:\n",
        "      self.x += 1\n",
        "\n",
        "  def is_done(self):\n",
        "    if self.x == 4 and self.y == 6:\n",
        "      return True\n",
        "    else:\n",
        "      return False\n",
        "\n",
        "  def reset(self):\n",
        "    self.x = 0\n",
        "    self.y = 0\n",
        "    return (self.x, self.y)"
      ]
    },
    {
      "cell_type": "code",
      "execution_count": 10,
      "metadata": {
        "id": "FcQs7GX_Wyun"
      },
      "outputs": [],
      "source": [
        "class QAgent():\n",
        "  def __init__(self):\n",
        "    self.q_table = np.zeros((5,7,4))\n",
        "    self.eps = 0.9\n",
        "    self.alpha = 0.1\n",
        "\n",
        "  def select_action(self, s):\n",
        "    x, y = s\n",
        "    coin = random.random()\n",
        "    if coin < self.eps:\n",
        "      action = random.randint(0,3)\n",
        "    else:\n",
        "      action_val = self.q_table[x,y,:]\n",
        "      action = np.argmax(action_val)\n",
        "    return action\n",
        "\n",
        "  def update_table(self, transition):\n",
        "    s, a, r, s_prime = transition\n",
        "    x, y = s\n",
        "    next_x, next_y = s_prime\n",
        "    self.q_table[x, y, a] = self.q_table[x, y, a] + self.alpha * (r + np.max(self.q_table[next_x, next_y, :]) - self.q_table[x, y, a])\n",
        "\n",
        "  def anneal_eps(self):\n",
        "    self.eps -= 0.01\n",
        "    self.eps = max(self.eps, 0.2)\n",
        "\n",
        "  def show_table(self):\n",
        "    q_lst = self.q_table.tolist()\n",
        "    data = np.zeros((5,7))\n",
        "    for row_idx in range(len(q_lst)):\n",
        "      row = q_lst[row_idx]\n",
        "      for col_idx in range(len(row)):\n",
        "        col = row[col_idx]\n",
        "        action = np.argmax(col)\n",
        "        data[row_idx, col_idx] = action\n",
        "    print(data)"
      ]
    },
    {
      "cell_type": "code",
      "execution_count": null,
      "metadata": {
        "id": "H5ze67Obg3W6"
      },
      "outputs": [],
      "source": [
        "def main():\n",
        "  env = GridWorld()\n",
        "  agent = QAgent()\n",
        "\n",
        "  for n_epi in range(1000):\n",
        "    done = False\n",
        "\n",
        "    s = env.reset()\n",
        "    while not done:\n",
        "      a = agent.select_action(s)\n",
        "      s_prime, r, done = env.step(a)\n",
        "      agent.update_table((s, a, r, s_prime))\n",
        "      s = s_prime\n",
        "    agent.anneal_eps()\n",
        "\n",
        "  agent.show_table()"
      ]
    },
    {
      "cell_type": "code",
      "execution_count": 13,
      "metadata": {
        "colab": {
          "base_uri": "https://localhost:8080/"
        },
        "id": "-yKU_7KJiHcK",
        "outputId": "7bff699d-7a72-449e-f57d-4968226dffc3"
      },
      "outputs": [
        {
          "name": "stdout",
          "output_type": "stream",
          "text": [
            "[[3. 3. 0. 3. 1. 2. 3.]\n",
            " [3. 3. 0. 2. 2. 3. 3.]\n",
            " [2. 3. 0. 1. 0. 3. 3.]\n",
            " [2. 2. 2. 1. 0. 3. 3.]\n",
            " [1. 1. 2. 1. 0. 2. 0.]]\n"
          ]
        }
      ],
      "source": [
        "if __name__ == '__main__':\n",
        "  main()"
      ]
    }
  ],
  "metadata": {
    "colab": {
      "provenance": []
    },
    "kernelspec": {
      "display_name": "Python 3",
      "name": "python3"
    },
    "language_info": {
      "name": "python"
    }
  },
  "nbformat": 4,
  "nbformat_minor": 0
}
